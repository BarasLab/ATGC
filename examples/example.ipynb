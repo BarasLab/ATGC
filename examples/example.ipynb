{
 "cells": [
  {
   "cell_type": "code",
   "execution_count": 21,
   "metadata": {
    "collapsed": true
   },
   "outputs": [],
   "source": [
    "import numpy as np\n",
    "\n",
    "from figures.controls.samples.sim_data.sim_data_tools import *\n",
    "import pylab as plt\n",
    "import tensorflow as tf\n",
    "from model.Sample_MIL import InstanceModels, RaggedModels\n",
    "from model import DatasetsUtils\n",
    "from sklearn.model_selection import StratifiedShuffleSplit\n",
    "physical_devices = tf.config.experimental.list_physical_devices('GPU')\n",
    "tf.config.experimental.set_memory_growth(physical_devices[-1], True)\n",
    "tf.config.experimental.set_visible_devices(physical_devices[-1], 'GPU')"
   ]
  },
  {
   "cell_type": "markdown",
   "source": [
    "#Let's create some simulated mutation data where the positive class is defined by having mutations with a specific sequence 5' of the mutation."
   ],
   "metadata": {
    "collapsed": false,
    "pycharm": {
     "name": "#%% md\n"
    }
   }
  },
  {
   "cell_type": "code",
   "execution_count": 2,
   "outputs": [],
   "source": [
    "def generate_sample(mean_variants=[5, 10, 20, 30, 40, 50, 70, 100, 150, 200, 250, 300],\n",
    "                    control=True, positive_choices=None, negative_instances=False, fixed=['five_p']):\n",
    "    if negative_instances and len(positive_choices) <= 1:\n",
    "        raise ValueError\n",
    "    center = np.random.choice(mean_variants, 1)\n",
    "    total_count = int(np.random.normal(center, int(np.ceil(center * .2))))\n",
    "    if total_count < 1:\n",
    "        total_count *= -1\n",
    "    if total_count == 0:\n",
    "        total_count = np.random.choice([2, 3, 4, 5, 6], 1)\n",
    "    if control:\n",
    "        if negative_instances:\n",
    "            positive_count = int(np.ceil(np.random.random() * total_count))\n",
    "            control_count = total_count - positive_count\n",
    "        else:\n",
    "            control_count = total_count\n",
    "            positive_count = 0\n",
    "    else:\n",
    "        positive_counts = [int(np.ceil(np.random.random() / len(positive_choices) * total_count)) for i in positive_choices]\n",
    "        control_count = total_count - sum(positive_counts)\n",
    "\n",
    "    control_count = max(control_count, 0)\n",
    "    positive_variants = []\n",
    "    positive_instances = []\n",
    "\n",
    "    control_variants = [generate_variant() for i in range(control_count)]\n",
    "    if control:\n",
    "        while True:\n",
    "            y = False\n",
    "            for i in control_variants:\n",
    "                if check_variant(i, positive_choices, to_check=fixed):\n",
    "                    y = True\n",
    "                    break\n",
    "            if y:\n",
    "                control_variants = [generate_variant() for i in range(control_count)]\n",
    "            else:\n",
    "                break\n",
    "\n",
    "    if control:\n",
    "        if negative_instances:\n",
    "            positive_choice = int(np.random.choice(range(len(positive_choices)), 1))\n",
    "            for i in range(positive_count):\n",
    "                positive_variant = list(generate_variant())\n",
    "                if 'five_p' in fixed:\n",
    "                    positive_variant[0] = positive_choices[positive_choice][0]\n",
    "                if 'three_p' in fixed:\n",
    "                    positive_variant[1] = positive_choices[positive_choice][1]\n",
    "                if 'ref' in fixed:\n",
    "                    positive_variant[2] = positive_choices[positive_choice][2]\n",
    "                if 'alt' in fixed:\n",
    "                    positive_variant[3] = positive_choices[positive_choice][3]\n",
    "                positive_variants.append(positive_variant)\n",
    "                positive_instances.append(positive_choice + 1)\n",
    "        else:\n",
    "            pass\n",
    "\n",
    "    else:\n",
    "        for index, i in enumerate(positive_choices):\n",
    "            for ii in range(positive_counts[index]):\n",
    "                positive_variant = list(generate_variant())\n",
    "                if 'five_p' in fixed:\n",
    "                    positive_variant[0] = i[0]\n",
    "                if 'three_p' in fixed:\n",
    "                    positive_variant[1] = i[1]\n",
    "                if 'ref' in fixed:\n",
    "                    positive_variant[2] = i[2]\n",
    "                if 'alt' in fixed:\n",
    "                    positive_variant[3] = i[3]\n",
    "                positive_variants.append(positive_variant)\n",
    "                positive_instances.append(index + 1)\n",
    "\n",
    "    return [control_variants + positive_variants, [0] * len(control_variants) + positive_instances]"
   ],
   "metadata": {
    "collapsed": false,
    "pycharm": {
     "name": "#%%\n"
    }
   }
  },
  {
   "cell_type": "markdown",
   "source": [
    "#We will collect information about the individual mutations in a dictionary."
   ],
   "metadata": {
    "collapsed": false,
    "pycharm": {
     "name": "#%% md\n"
    }
   }
  },
  {
   "cell_type": "code",
   "execution_count": 3,
   "outputs": [],
   "source": [
    "instances = {'sample_idx': [],\n",
    "                 'seq_5p': [],\n",
    "                 'seq_3p': [],\n",
    "                  'seq_ref': [],\n",
    "                  'seq_alt': [],\n",
    "                  'strand': [],\n",
    "                  'cds': [],\n",
    "                  'class': []}"
   ],
   "metadata": {
    "collapsed": false,
    "pycharm": {
     "name": "#%%\n"
    }
   }
  },
  {
   "cell_type": "markdown",
   "source": [
    "#And we will also collect information about the samples the mutations belong to."
   ],
   "metadata": {
    "collapsed": false,
    "pycharm": {
     "name": "#%% md\n"
    }
   }
  },
  {
   "cell_type": "code",
   "execution_count": 5,
   "outputs": [],
   "source": [
    "samples = {'classes': []}"
   ],
   "metadata": {
    "collapsed": false,
    "pycharm": {
     "name": "#%%\n"
    }
   }
  },
  {
   "cell_type": "markdown",
   "source": [
    "#Need to generate the motif which will define the positive class."
   ],
   "metadata": {
    "collapsed": false,
    "pycharm": {
     "name": "#%% md\n"
    }
   }
  },
  {
   "cell_type": "code",
   "execution_count": 6,
   "outputs": [],
   "source": [
    "positive_choices = [generate_variant() for i in range(1)]\n"
   ],
   "metadata": {
    "collapsed": false,
    "pycharm": {
     "name": "#%%\n"
    }
   }
  },
  {
   "cell_type": "code",
   "execution_count": null,
   "outputs": [],
   "source": [
    "\n",
    "for idx in range(1000):\n",
    "    if np.random.sample() < .5:\n",
    "        variants = generate_sample(positive_choices=positive_choices)\n",
    "        samples['classes'] = samples['classes'] + [0]\n",
    "    else:\n",
    "        variants = generate_sample(control=False, positive_choices=positive_choices)\n",
    "        samples['classes'] = samples['classes'] + [1]\n",
    "    instances['sample_idx'] = instances['sample_idx'] + [idx] * len(variants[0])\n",
    "    instances['seq_5p'] = instances['seq_5p'] + [i[0] for i in variants[0]]\n",
    "    instances['seq_3p'] = instances['seq_3p'] + [i[1] for i in variants[0]]\n",
    "    instances['seq_ref'] = instances['seq_ref'] + [i[2] for i in variants[0]]\n",
    "    instances['seq_alt'] = instances['seq_alt'] + [i[3] for i in variants[0]]\n",
    "    instances['strand'] = instances['strand'] + [i[6] for i in variants[0]]\n",
    "    instances['cds'] = instances['cds'] + [0 for i in variants[0]]\n",
    "    instances['class'] = instances['class'] + variants[1]\n",
    "\n",
    "for i in instances:\n",
    "    instances[i] = np.array(instances[i])"
   ],
   "metadata": {
    "collapsed": false,
    "pycharm": {
     "name": "#%%\n",
     "is_executing": true
    }
   }
  },
  {
   "cell_type": "code",
   "execution_count": 9,
   "outputs": [
    {
     "data": {
      "text/plain": "1000"
     },
     "execution_count": 9,
     "metadata": {},
     "output_type": "execute_result"
    }
   ],
   "source": [
    "len(samples['classes'])"
   ],
   "metadata": {
    "collapsed": false,
    "pycharm": {
     "name": "#%%\n"
    }
   }
  },
  {
   "cell_type": "code",
   "execution_count": 10,
   "outputs": [
    {
     "data": {
      "text/plain": "(array([0, 1]), array([478, 522]))"
     },
     "execution_count": 10,
     "metadata": {},
     "output_type": "execute_result"
    }
   ],
   "source": [
    "np.unique(samples['classes'], return_counts=True)"
   ],
   "metadata": {
    "collapsed": false,
    "pycharm": {
     "name": "#%%\n"
    }
   }
  },
  {
   "cell_type": "code",
   "execution_count": 11,
   "outputs": [
    {
     "data": {
      "text/plain": "97261"
     },
     "execution_count": 11,
     "metadata": {},
     "output_type": "execute_result"
    }
   ],
   "source": [
    "len(instances['sample_idx'])"
   ],
   "metadata": {
    "collapsed": false,
    "pycharm": {
     "name": "#%%\n"
    }
   }
  },
  {
   "cell_type": "markdown",
   "source": [
    "#We made 1000 samples with 478 being of the negative class and 522 the positive class.  These samples are composed of 97261 mutations."
   ],
   "metadata": {
    "collapsed": false,
    "pycharm": {
     "name": "#%% md\n"
    }
   }
  },
  {
   "cell_type": "markdown",
   "source": [
    "#Let's look at the distribution of mutations per sample.  You can alter the distribution to mirror the data you expect."
   ],
   "metadata": {
    "collapsed": false,
    "pycharm": {
     "name": "#%% md\n"
    }
   }
  },
  {
   "cell_type": "code",
   "execution_count": 15,
   "outputs": [
    {
     "data": {
      "text/plain": "Text(0.5, 0, 'Mutations per Sample')"
     },
     "execution_count": 15,
     "metadata": {},
     "output_type": "execute_result"
    },
    {
     "data": {
      "text/plain": "<Figure size 640x480 with 1 Axes>",
      "image/png": "[encoded data removed]"
     },
     "metadata": {},
     "output_type": "display_data"
    }
   ],
   "source": [
    "plt.hist(np.unique(instances['sample_idx'], return_counts=True)[1], bins=50)\n",
    "plt.xlabel('Mutations per Sample')"
   ],
   "metadata": {
    "collapsed": false,
    "pycharm": {
     "name": "#%%\n"
    }
   }
  },
  {
   "cell_type": "code",
   "execution_count": 17,
   "outputs": [
    {
     "name": "stdout",
     "output_type": "stream",
     "text": [
      "[['C' 'T' 'G' 'C' 'C' 'T']\n",
      " ['G' 'A' 'T' 'T' 'T' 'A']\n",
      " ['T' 'T' 'T' 'C' 'T' 'T']\n",
      " ['G' 'C' 'A' 'G' 'C' 'A']\n",
      " ['A' 'T' 'A' 'T' 'A' 'A']\n",
      " ['A' 'T' 'C' 'G' 'G' 'G']\n",
      " ['G' 'A' 'G' 'T' 'C' 'A']\n",
      " ['T' 'T' 'C' 'C' 'A' 'A']\n",
      " ['A' 'C' 'A' 'G' 'G' 'T']\n",
      " ['C' 'T' 'G' 'C' 'A' 'C']]\n"
     ]
    }
   ],
   "source": [
    "print(instances['seq_5p'][instances['class'] == 0][:10])"
   ],
   "metadata": {
    "collapsed": false,
    "pycharm": {
     "name": "#%%\n"
    }
   }
  },
  {
   "cell_type": "code",
   "execution_count": 18,
   "outputs": [
    {
     "name": "stdout",
     "output_type": "stream",
     "text": [
      "[['C' 'C' 'G' 'T' 'T' 'A']\n",
      " ['C' 'C' 'G' 'T' 'T' 'A']\n",
      " ['C' 'C' 'G' 'T' 'T' 'A']\n",
      " ['C' 'C' 'G' 'T' 'T' 'A']\n",
      " ['C' 'C' 'G' 'T' 'T' 'A']\n",
      " ['C' 'C' 'G' 'T' 'T' 'A']\n",
      " ['C' 'C' 'G' 'T' 'T' 'A']\n",
      " ['C' 'C' 'G' 'T' 'T' 'A']\n",
      " ['C' 'C' 'G' 'T' 'T' 'A']\n",
      " ['C' 'C' 'G' 'T' 'T' 'A']]\n"
     ]
    }
   ],
   "source": [
    "print(instances['seq_5p'][instances['class'] == 1][:10])"
   ],
   "metadata": {
    "collapsed": false,
    "pycharm": {
     "name": "#%%\n"
    }
   }
  },
  {
   "cell_type": "markdown",
   "source": [
    "#The negative instances have random sequences 5' of the mutation as expected while the positive instances all have the same sequence.  We need to convert from nucleotide to a format the model can use."
   ],
   "metadata": {
    "collapsed": false,
    "pycharm": {
     "name": "#%% md\n"
    }
   }
  },
  {
   "cell_type": "code",
   "execution_count": 19,
   "outputs": [],
   "source": [
    "\n",
    "nucleotide_mapping = {'-': 0, 'N': 0, 'A': 1, 'T': 2, 'C': 3, 'G': 4}\n",
    "instances['seq_5p'] = np.stack(np.apply_along_axis(lambda x: np.array([nucleotide_mapping[i] for i in x]), -1, instances['seq_5p']), axis=0)\n",
    "instances['seq_3p'] = np.stack(np.apply_along_axis(lambda x: np.array([nucleotide_mapping[i] for i in x]), -1, instances['seq_3p']), axis=0)\n",
    "instances['seq_ref'] = np.stack(np.apply_along_axis(lambda x: np.array([nucleotide_mapping[i] for i in x]), -1, instances['seq_ref']), axis=0)\n",
    "instances['seq_alt'] = np.stack(np.apply_along_axis(lambda x: np.array([nucleotide_mapping[i] for i in x]), -1, instances['seq_alt']), axis=0)"
   ],
   "metadata": {
    "collapsed": false,
    "pycharm": {
     "name": "#%%\n"
    }
   }
  },
  {
   "cell_type": "markdown",
   "source": [
    "#The model will onehot this encoded data on the graph.  We need to stack the reverse of a variant with its forward counterpart to fully represent a variant."
   ],
   "metadata": {
    "collapsed": false,
    "pycharm": {
     "name": "#%% md\n"
    }
   }
  },
  {
   "cell_type": "code",
   "execution_count": 20,
   "outputs": [],
   "source": [
    "\n",
    "variant_encoding = np.array([0, 2, 1, 4, 3])\n",
    "instances['seq_5p'] = np.stack([instances['seq_5p'], variant_encoding[instances['seq_3p'][:, ::-1]]], axis=2)\n",
    "instances['seq_3p'] = np.stack([instances['seq_3p'], variant_encoding[instances['seq_5p'][:, :, 0][:, ::-1]]], axis=2)\n",
    "t = instances['seq_ref'].copy()\n",
    "i = t != 0\n",
    "t[i] = variant_encoding[instances['seq_ref'][:, ::-1]][i[:, ::-1]]\n",
    "instances['seq_ref'] = np.stack([instances['seq_ref'], t], axis=2)\n",
    "t = instances['seq_alt'].copy()\n",
    "i = t != 0\n",
    "t[i] = variant_encoding[instances['seq_alt'][:, ::-1]][i[:, ::-1]]\n",
    "instances['seq_alt'] = np.stack([instances['seq_alt'], t], axis=2)\n",
    "del i, t"
   ],
   "metadata": {
    "collapsed": false,
    "pycharm": {
     "name": "#%%\n"
    }
   }
  },
  {
   "cell_type": "markdown",
   "source": [
    "#We will onehot the strand ourselves, but it could have been done on graph."
   ],
   "metadata": {
    "collapsed": false,
    "pycharm": {
     "name": "#%% md\n"
    }
   }
  },
  {
   "cell_type": "code",
   "execution_count": 23,
   "outputs": [],
   "source": [
    "strand_emb_mat = np.concatenate([np.zeros(2)[np.newaxis, :], np.diag(np.ones(2))], axis=0)\n",
    "instances['strand_emb'] = strand_emb_mat[instances['strand']]"
   ],
   "metadata": {
    "collapsed": false,
    "pycharm": {
     "name": "#%%\n"
    }
   }
  },
  {
   "cell_type": "code",
   "execution_count": 24,
   "outputs": [],
   "source": [
    "#We need to construct a ragged NumPy array using the sample indexes.  Using sample indexes allows for the possibility that the instances are not in order, for example instance of sample 1, instance of sample 2, instance of sample 1.  If you know that your data is in order then this operation could be done far more efficiently."
   ],
   "metadata": {
    "collapsed": false,
    "pycharm": {
     "name": "#%%\n"
    }
   }
  },
  {
   "cell_type": "code",
   "execution_count": 25,
   "outputs": [],
   "source": [
    "indexes = [np.where(instances['sample_idx'] == idx) for idx in range(len(samples['classes']))]\n",
    "five_p = np.array([instances['seq_5p'][i] for i in indexes], dtype='object')\n",
    "three_p = np.array([instances['seq_3p'][i] for i in indexes], dtype='object')\n",
    "ref = np.array([instances['seq_ref'][i] for i in indexes], dtype='object')\n",
    "alt = np.array([instances['seq_alt'][i] for i in indexes], dtype='object')\n",
    "strand = np.array([instances['strand_emb'][i] for i in indexes], dtype='object')"
   ],
   "metadata": {
    "collapsed": false,
    "pycharm": {
     "name": "#%%\n"
    }
   }
  },
  {
   "cell_type": "markdown",
   "source": [
    "#In order to provide the graph ragged tensors we use loaders.  The loaders will automatically infer that ragged tensors need to be made from the fact that the arrays are dtype object."
   ],
   "metadata": {
    "collapsed": false,
    "pycharm": {
     "name": "#%% md\n"
    }
   }
  },
  {
   "cell_type": "code",
   "execution_count": 26,
   "outputs": [],
   "source": [
    "\n",
    "five_p_loader = DatasetsUtils.Map.FromNumpy(five_p, tf.int32)\n",
    "three_p_loader = DatasetsUtils.Map.FromNumpy(three_p, tf.int32)\n",
    "ref_loader = DatasetsUtils.Map.FromNumpy(ref, tf.int32)\n",
    "alt_loader = DatasetsUtils.Map.FromNumpy(alt, tf.int32)\n",
    "strand_loader = DatasetsUtils.Map.FromNumpy(strand, tf.float32)"
   ],
   "metadata": {
    "collapsed": false,
    "pycharm": {
     "name": "#%%\n"
    }
   }
  },
  {
   "cell_type": "code",
   "execution_count": null,
   "outputs": [],
   "source": [
    "##A loader is not needed for data which will not be converted into a ragged tensor but can still be used."
   ],
   "metadata": {
    "collapsed": false,
    "pycharm": {
     "name": "#%%\n"
    }
   }
  },
  {
   "cell_type": "code",
   "execution_count": 28,
   "outputs": [],
   "source": [
    "\n",
    "y_label = np.array(samples['classes'])[:, np.newaxis]\n",
    "y_strat = y_label\n",
    "y_label_loader = DatasetsUtils.Map.FromNumpy(y_label, tf.float32)"
   ],
   "metadata": {
    "collapsed": false,
    "pycharm": {
     "name": "#%%\n"
    }
   }
  },
  {
   "cell_type": "code",
   "execution_count": null,
   "outputs": [],
   "source": [
    "\n",
    "idx_train, idx_test = next(StratifiedShuffleSplit(random_state=0, n_splits=1, test_size=200).split(y_strat, y_strat))\n",
    "idx_train, idx_valid = [idx_train[idx] for idx in list(StratifiedShuffleSplit(n_splits=1, test_size=300, random_state=0).split(np.zeros_like(y_strat)[idx_train], y_strat[idx_train]))[0]]\n",
    "\n",
    "ds_train = tf.data.Dataset.from_tensor_slices((idx_train, y_strat[idx_train]))\n",
    "ds_train = ds_train.apply(DatasetsUtils.Apply.StratifiedMinibatch(batch_size=100, ds_size=len(idx_train)))\n",
    "ds_train = ds_train.map(lambda x: ((five_p_loader(x),\n",
    "                                    three_p_loader(x),\n",
    "                                    ref_loader(x),\n",
    "                                    alt_loader(x),\n",
    "                                    strand_loader(x)),\n",
    "                                    y_label_loader(x)\n",
    "                                   ))\n",
    "\n",
    "\n",
    "ds_valid = tf.data.Dataset.from_tensor_slices(((five_p_loader(idx_valid),\n",
    "                                                three_p_loader(idx_valid),\n",
    "                                                ref_loader(idx_valid),\n",
    "                                                alt_loader(idx_valid),\n",
    "                                                strand_loader(idx_valid),\n",
    "                                                ),\n",
    "                                               tf.gather(y_label, idx_valid),\n",
    "                                               ))\n",
    "ds_valid = ds_valid.batch(len(idx_valid), drop_remainder=False)\n",
    "\n",
    "ds_test = tf.data.Dataset.from_tensor_slices(((five_p_loader(idx_test),\n",
    "                                                three_p_loader(idx_test),\n",
    "                                                ref_loader(idx_test),\n",
    "                                                alt_loader(idx_test),\n",
    "                                                strand_loader(idx_test),\n",
    "                                                ),\n",
    "                                               tf.gather(y_label, idx_test),\n",
    "                                               ))\n",
    "ds_test = ds_test.batch(len(idx_test), drop_remainder=False)"
   ],
   "metadata": {
    "collapsed": false,
    "pycharm": {
     "name": "#%%\n",
     "is_executing": true
    }
   }
  },
  {
   "cell_type": "code",
   "execution_count": null,
   "outputs": [],
   "source": [
    "#We need to build our sequence encoder.  The sequences are 6 nucleotides long, have an embedding dimension of 4, and have 2 strands.  We will use 16 kernels for the 5' and 3' sequences, and 8 kernels for the ref and alt sequences."
   ],
   "metadata": {
    "collapsed": false,
    "pycharm": {
     "name": "#%%\n"
    }
   }
  },
  {
   "cell_type": "code",
   "execution_count": 30,
   "outputs": [],
   "source": [
    "tile_encoder = InstanceModels.VariantSequence(6, 4, 2, [16, 16, 8, 8])"
   ],
   "metadata": {
    "collapsed": false,
    "pycharm": {
     "name": "#%%\n"
    }
   }
  },
  {
   "cell_type": "code",
   "execution_count": null,
   "outputs": [],
   "source": [
    "#We will build our MIL model with the default parameters."
   ],
   "metadata": {
    "collapsed": false,
    "pycharm": {
     "name": "#%%\n"
    }
   }
  },
  {
   "cell_type": "code",
   "execution_count": 31,
   "outputs": [],
   "source": [
    "mil = RaggedModels.MIL(instance_encoders=[tile_encoder.model])"
   ],
   "metadata": {
    "collapsed": false,
    "pycharm": {
     "name": "#%%\n"
    }
   }
  },
  {
   "cell_type": "code",
   "execution_count": 32,
   "outputs": [
    {
     "name": "stdout",
     "output_type": "stream",
     "text": [
      "Epoch 1/10000\n"
     ]
    },
    {
     "name": "stderr",
     "output_type": "stream",
     "text": [
      "2023-01-03 16:58:19.535310: I tensorflow/stream_executor/cuda/cuda_dnn.cc:366] Loaded cuDNN version 8201\n"
     ]
    },
    {
     "name": "stdout",
     "output_type": "stream",
     "text": [
      "10/10 [==============================] - 11s 206ms/step - loss: 1.5316 - accuracy: 0.4784 - binary_crossentropy: 0.9080 - val_loss: 1.2865 - val_accuracy: 0.4767 - val_binary_crossentropy: 0.6897\n",
      "Epoch 2/10000\n",
      "10/10 [==============================] - 1s 131ms/step - loss: 1.2582 - accuracy: 0.4772 - binary_crossentropy: 0.6815 - val_loss: 1.2238 - val_accuracy: 0.4767 - val_binary_crossentropy: 0.6702\n",
      "Epoch 3/10000\n",
      "10/10 [==============================] - 1s 127ms/step - loss: 1.2030 - accuracy: 0.4784 - binary_crossentropy: 0.6657 - val_loss: 1.1695 - val_accuracy: 0.4767 - val_binary_crossentropy: 0.6508\n",
      "Epoch 4/10000\n",
      "10/10 [==============================] - 1s 150ms/step - loss: 1.1563 - accuracy: 0.4784 - binary_crossentropy: 0.6512 - val_loss: 1.1239 - val_accuracy: 0.4833 - val_binary_crossentropy: 0.6344\n",
      "Epoch 5/10000\n",
      "10/10 [==============================] - 1s 129ms/step - loss: 1.1044 - accuracy: 0.5360 - binary_crossentropy: 0.6265 - val_loss: 1.0663 - val_accuracy: 0.5333 - val_binary_crossentropy: 0.6017\n",
      "Epoch 6/10000\n",
      "10/10 [==============================] - 1s 135ms/step - loss: 1.0505 - accuracy: 0.5829 - binary_crossentropy: 0.5954 - val_loss: 1.0026 - val_accuracy: 0.6800 - val_binary_crossentropy: 0.5580\n",
      "Epoch 7/10000\n",
      "10/10 [==============================] - 1s 133ms/step - loss: 0.9830 - accuracy: 0.6727 - binary_crossentropy: 0.5449 - val_loss: 0.9141 - val_accuracy: 0.7533 - val_binary_crossentropy: 0.4826\n",
      "Epoch 8/10000\n",
      "10/10 [==============================] - 1s 126ms/step - loss: 0.9077 - accuracy: 0.7566 - binary_crossentropy: 0.4792 - val_loss: 0.8199 - val_accuracy: 0.8600 - val_binary_crossentropy: 0.3941\n",
      "Epoch 9/10000\n",
      "10/10 [==============================] - 1s 125ms/step - loss: 0.8131 - accuracy: 0.8293 - binary_crossentropy: 0.3901 - val_loss: 0.7336 - val_accuracy: 0.8967 - val_binary_crossentropy: 0.3149\n",
      "Epoch 10/10000\n",
      "10/10 [==============================] - 1s 109ms/step - loss: 0.7437 - accuracy: 0.8561 - binary_crossentropy: 0.3305 - val_loss: 0.6527 - val_accuracy: 0.9033 - val_binary_crossentropy: 0.2478\n",
      "Epoch 11/10000\n",
      "10/10 [==============================] - 1s 119ms/step - loss: 0.6790 - accuracy: 0.8777 - binary_crossentropy: 0.2829 - val_loss: 0.5962 - val_accuracy: 0.9433 - val_binary_crossentropy: 0.2090\n",
      "Epoch 12/10000\n",
      "10/10 [==============================] - 1s 128ms/step - loss: 0.6136 - accuracy: 0.8942 - binary_crossentropy: 0.2340 - val_loss: 0.5554 - val_accuracy: 0.9633 - val_binary_crossentropy: 0.1835\n",
      "Epoch 13/10000\n",
      "10/10 [==============================] - 1s 129ms/step - loss: 0.5654 - accuracy: 0.9329 - binary_crossentropy: 0.2014 - val_loss: 0.4936 - val_accuracy: 0.9633 - val_binary_crossentropy: 0.1375\n",
      "Epoch 14/10000\n",
      "10/10 [==============================] - 1s 116ms/step - loss: 0.5157 - accuracy: 0.9472 - binary_crossentropy: 0.1652 - val_loss: 0.4571 - val_accuracy: 0.9800 - val_binary_crossentropy: 0.1121\n",
      "Epoch 15/10000\n",
      "10/10 [==============================] - 1s 130ms/step - loss: 0.4775 - accuracy: 0.9579 - binary_crossentropy: 0.1383 - val_loss: 0.4266 - val_accuracy: 0.9833 - val_binary_crossentropy: 0.0943\n",
      "Epoch 16/10000\n",
      "10/10 [==============================] - 1s 129ms/step - loss: 0.4426 - accuracy: 0.9676 - binary_crossentropy: 0.1158 - val_loss: 0.4038 - val_accuracy: 0.9933 - val_binary_crossentropy: 0.0834\n",
      "Epoch 17/10000\n",
      "10/10 [==============================] - 1s 116ms/step - loss: 0.4236 - accuracy: 0.9640 - binary_crossentropy: 0.1097 - val_loss: 0.3896 - val_accuracy: 0.9933 - val_binary_crossentropy: 0.0790\n",
      "Epoch 18/10000\n",
      "10/10 [==============================] - 1s 129ms/step - loss: 0.3966 - accuracy: 0.9736 - binary_crossentropy: 0.0929 - val_loss: 0.3730 - val_accuracy: 0.9933 - val_binary_crossentropy: 0.0729\n",
      "Epoch 19/10000\n",
      "10/10 [==============================] - 1s 121ms/step - loss: 0.3831 - accuracy: 0.9724 - binary_crossentropy: 0.0906 - val_loss: 0.3466 - val_accuracy: 0.9933 - val_binary_crossentropy: 0.0607\n",
      "Epoch 20/10000\n",
      "10/10 [==============================] - 1s 123ms/step - loss: 0.3701 - accuracy: 0.9760 - binary_crossentropy: 0.0873 - val_loss: 0.3327 - val_accuracy: 0.9933 - val_binary_crossentropy: 0.0542\n",
      "Epoch 21/10000\n",
      "10/10 [==============================] - 1s 121ms/step - loss: 0.3436 - accuracy: 0.9796 - binary_crossentropy: 0.0675 - val_loss: 0.3255 - val_accuracy: 0.9967 - val_binary_crossentropy: 0.0535\n",
      "Epoch 22/10000\n",
      "10/10 [==============================] - 1s 132ms/step - loss: 0.3356 - accuracy: 0.9784 - binary_crossentropy: 0.0692 - val_loss: 0.3150 - val_accuracy: 1.0000 - val_binary_crossentropy: 0.0511\n",
      "Epoch 23/10000\n",
      "10/10 [==============================] - 1s 118ms/step - loss: 0.3208 - accuracy: 0.9868 - binary_crossentropy: 0.0616 - val_loss: 0.2997 - val_accuracy: 0.9967 - val_binary_crossentropy: 0.0455\n",
      "Epoch 24/10000\n",
      "10/10 [==============================] - 1s 133ms/step - loss: 0.3107 - accuracy: 0.9856 - binary_crossentropy: 0.0606 - val_loss: 0.2886 - val_accuracy: 0.9967 - val_binary_crossentropy: 0.0433\n",
      "Epoch 25/10000\n",
      "10/10 [==============================] - 1s 127ms/step - loss: 0.3001 - accuracy: 0.9808 - binary_crossentropy: 0.0582 - val_loss: 0.2910 - val_accuracy: 1.0000 - val_binary_crossentropy: 0.0489\n",
      "Epoch 26/10000\n",
      "10/10 [==============================] - 1s 127ms/step - loss: 0.2896 - accuracy: 0.9856 - binary_crossentropy: 0.0550 - val_loss: 0.2705 - val_accuracy: 0.9967 - val_binary_crossentropy: 0.0393\n",
      "Epoch 27/10000\n",
      "10/10 [==============================] - 1s 106ms/step - loss: 0.2797 - accuracy: 0.9904 - binary_crossentropy: 0.0519 - val_loss: 0.2637 - val_accuracy: 1.0000 - val_binary_crossentropy: 0.0384\n",
      "Epoch 28/10000\n",
      "10/10 [==============================] - 1s 128ms/step - loss: 0.2646 - accuracy: 0.9892 - binary_crossentropy: 0.0446 - val_loss: 0.2538 - val_accuracy: 0.9967 - val_binary_crossentropy: 0.0362\n",
      "Epoch 29/10000\n",
      "10/10 [==============================] - 1s 120ms/step - loss: 0.2648 - accuracy: 0.9904 - binary_crossentropy: 0.0496 - val_loss: 0.2450 - val_accuracy: 0.9967 - val_binary_crossentropy: 0.0350\n",
      "Epoch 30/10000\n",
      "10/10 [==============================] - 1s 125ms/step - loss: 0.2481 - accuracy: 0.9904 - binary_crossentropy: 0.0405 - val_loss: 0.2402 - val_accuracy: 1.0000 - val_binary_crossentropy: 0.0349\n",
      "Epoch 31/10000\n",
      "10/10 [==============================] - 1s 130ms/step - loss: 0.2419 - accuracy: 0.9904 - binary_crossentropy: 0.0411 - val_loss: 0.2347 - val_accuracy: 1.0000 - val_binary_crossentropy: 0.0346\n",
      "Epoch 32/10000\n",
      "10/10 [==============================] - 1s 117ms/step - loss: 0.2331 - accuracy: 0.9904 - binary_crossentropy: 0.0389 - val_loss: 0.2266 - val_accuracy: 1.0000 - val_binary_crossentropy: 0.0324\n",
      "Epoch 33/10000\n",
      "10/10 [==============================] - 1s 108ms/step - loss: 0.2292 - accuracy: 0.9904 - binary_crossentropy: 0.0392 - val_loss: 0.2189 - val_accuracy: 1.0000 - val_binary_crossentropy: 0.0313\n",
      "Epoch 34/10000\n",
      "10/10 [==============================] - 1s 115ms/step - loss: 0.2195 - accuracy: 0.9916 - binary_crossentropy: 0.0356 - val_loss: 0.2105 - val_accuracy: 0.9967 - val_binary_crossentropy: 0.0299\n",
      "Epoch 35/10000\n",
      "10/10 [==============================] - 1s 115ms/step - loss: 0.2141 - accuracy: 0.9904 - binary_crossentropy: 0.0358 - val_loss: 0.2033 - val_accuracy: 0.9933 - val_binary_crossentropy: 0.0283\n",
      "Epoch 36/10000\n",
      "10/10 [==============================] - 1s 127ms/step - loss: 0.2041 - accuracy: 0.9940 - binary_crossentropy: 0.0307 - val_loss: 0.1989 - val_accuracy: 1.0000 - val_binary_crossentropy: 0.0280\n",
      "Epoch 37/10000\n",
      "10/10 [==============================] - 1s 132ms/step - loss: 0.2017 - accuracy: 0.9904 - binary_crossentropy: 0.0342 - val_loss: 0.1918 - val_accuracy: 0.9933 - val_binary_crossentropy: 0.0272\n",
      "Epoch 38/10000\n",
      "10/10 [==============================] - 1s 138ms/step - loss: 0.1904 - accuracy: 0.9976 - binary_crossentropy: 0.0274 - val_loss: 0.1866 - val_accuracy: 0.9967 - val_binary_crossentropy: 0.0260\n",
      "Epoch 39/10000\n",
      "10/10 [==============================] - 1s 130ms/step - loss: 0.1856 - accuracy: 0.9940 - binary_crossentropy: 0.0285 - val_loss: 0.1842 - val_accuracy: 1.0000 - val_binary_crossentropy: 0.0269\n",
      "Epoch 40/10000\n",
      "10/10 [==============================] - 1s 96ms/step - loss: 0.1815 - accuracy: 0.9940 - binary_crossentropy: 0.0290 - val_loss: 0.1795 - val_accuracy: 0.9967 - val_binary_crossentropy: 0.0269\n",
      "Epoch 41/10000\n",
      "10/10 [==============================] - 1s 96ms/step - loss: 0.1727 - accuracy: 0.9964 - binary_crossentropy: 0.0234 - val_loss: 0.1709 - val_accuracy: 0.9933 - val_binary_crossentropy: 0.0256\n",
      "Epoch 42/10000\n",
      "10/10 [==============================] - 1s 129ms/step - loss: 0.1714 - accuracy: 0.9928 - binary_crossentropy: 0.0261 - val_loss: 0.1664 - val_accuracy: 0.9933 - val_binary_crossentropy: 0.0261\n",
      "Epoch 43/10000\n",
      "10/10 [==============================] - 1s 105ms/step - loss: 0.1655 - accuracy: 0.9952 - binary_crossentropy: 0.0247 - val_loss: 0.1659 - val_accuracy: 1.0000 - val_binary_crossentropy: 0.0240\n",
      "Epoch 44/10000\n",
      "10/10 [==============================] - 1s 117ms/step - loss: 0.1617 - accuracy: 0.9940 - binary_crossentropy: 0.0242 - val_loss: 0.1582 - val_accuracy: 0.9967 - val_binary_crossentropy: 0.0226\n",
      "Epoch 45/10000\n",
      "10/10 [==============================] - 1s 99ms/step - loss: 0.1542 - accuracy: 0.9964 - binary_crossentropy: 0.0213 - val_loss: 0.1548 - val_accuracy: 0.9967 - val_binary_crossentropy: 0.0226\n",
      "Epoch 46/10000\n",
      "10/10 [==============================] - 1s 108ms/step - loss: 0.1493 - accuracy: 0.9988 - binary_crossentropy: 0.0206 - val_loss: 0.1504 - val_accuracy: 0.9967 - val_binary_crossentropy: 0.0220\n",
      "Epoch 47/10000\n",
      "10/10 [==============================] - 1s 126ms/step - loss: 0.1434 - accuracy: 0.9988 - binary_crossentropy: 0.0186 - val_loss: 0.1460 - val_accuracy: 0.9967 - val_binary_crossentropy: 0.0221\n",
      "Epoch 48/10000\n",
      "10/10 [==============================] - 1s 104ms/step - loss: 0.1428 - accuracy: 1.0000 - binary_crossentropy: 0.0199 - val_loss: 0.1421 - val_accuracy: 0.9933 - val_binary_crossentropy: 0.0229\n",
      "Epoch 49/10000\n",
      "10/10 [==============================] - 1s 115ms/step - loss: 0.1372 - accuracy: 0.9988 - binary_crossentropy: 0.0193 - val_loss: 0.1389 - val_accuracy: 0.9967 - val_binary_crossentropy: 0.0219\n",
      "Epoch 50/10000\n",
      "10/10 [==============================] - 1s 107ms/step - loss: 0.1310 - accuracy: 0.9988 - binary_crossentropy: 0.0165 - val_loss: 0.1359 - val_accuracy: 0.9967 - val_binary_crossentropy: 0.0211\n",
      "Epoch 51/10000\n",
      "10/10 [==============================] - 1s 116ms/step - loss: 0.1293 - accuracy: 1.0000 - binary_crossentropy: 0.0169 - val_loss: 0.1318 - val_accuracy: 0.9967 - val_binary_crossentropy: 0.0209\n",
      "Epoch 52/10000\n",
      "10/10 [==============================] - 1s 96ms/step - loss: 0.1273 - accuracy: 0.9988 - binary_crossentropy: 0.0181 - val_loss: 0.1314 - val_accuracy: 0.9967 - val_binary_crossentropy: 0.0214\n",
      "Epoch 53/10000\n",
      "10/10 [==============================] - 1s 131ms/step - loss: 0.1243 - accuracy: 0.9976 - binary_crossentropy: 0.0179 - val_loss: 0.1248 - val_accuracy: 0.9933 - val_binary_crossentropy: 0.0195\n",
      "Epoch 54/10000\n",
      "10/10 [==============================] - 1s 107ms/step - loss: 0.1190 - accuracy: 1.0000 - binary_crossentropy: 0.0138 - val_loss: 0.1239 - val_accuracy: 0.9900 - val_binary_crossentropy: 0.0238\n",
      "Epoch 55/10000\n",
      "10/10 [==============================] - 1s 105ms/step - loss: 0.1173 - accuracy: 0.9976 - binary_crossentropy: 0.0146 - val_loss: 0.1199 - val_accuracy: 0.9967 - val_binary_crossentropy: 0.0196\n",
      "Epoch 56/10000\n",
      "10/10 [==============================] - 1s 112ms/step - loss: 0.1130 - accuracy: 0.9976 - binary_crossentropy: 0.0159 - val_loss: 0.1232 - val_accuracy: 0.9933 - val_binary_crossentropy: 0.0225\n",
      "Epoch 57/10000\n",
      "10/10 [==============================] - 1s 98ms/step - loss: 0.1102 - accuracy: 1.0000 - binary_crossentropy: 0.0139 - val_loss: 0.1154 - val_accuracy: 0.9967 - val_binary_crossentropy: 0.0195\n",
      "Epoch 58/10000\n",
      "10/10 [==============================] - 1s 96ms/step - loss: 0.1054 - accuracy: 1.0000 - binary_crossentropy: 0.0118 - val_loss: 0.1122 - val_accuracy: 0.9967 - val_binary_crossentropy: 0.0201\n",
      "Epoch 59/10000\n",
      "10/10 [==============================] - 1s 116ms/step - loss: 0.1040 - accuracy: 1.0000 - binary_crossentropy: 0.0133 - val_loss: 0.1099 - val_accuracy: 0.9967 - val_binary_crossentropy: 0.0204\n",
      "Epoch 60/10000\n",
      "10/10 [==============================] - 1s 107ms/step - loss: 0.1002 - accuracy: 1.0000 - binary_crossentropy: 0.0122 - val_loss: 0.1076 - val_accuracy: 0.9967 - val_binary_crossentropy: 0.0199\n",
      "Epoch 61/10000\n",
      "10/10 [==============================] - 1s 114ms/step - loss: 0.0983 - accuracy: 1.0000 - binary_crossentropy: 0.0120 - val_loss: 0.1053 - val_accuracy: 0.9967 - val_binary_crossentropy: 0.0197\n",
      "Epoch 62/10000\n",
      "10/10 [==============================] - 1s 116ms/step - loss: 0.0948 - accuracy: 1.0000 - binary_crossentropy: 0.0112 - val_loss: 0.1039 - val_accuracy: 0.9967 - val_binary_crossentropy: 0.0199\n",
      "Epoch 63/10000\n",
      "10/10 [==============================] - 1s 127ms/step - loss: 0.0930 - accuracy: 1.0000 - binary_crossentropy: 0.0112 - val_loss: 0.1008 - val_accuracy: 0.9967 - val_binary_crossentropy: 0.0193\n",
      "Epoch 64/10000\n",
      "10/10 [==============================] - 1s 114ms/step - loss: 0.0901 - accuracy: 1.0000 - binary_crossentropy: 0.0103 - val_loss: 0.0986 - val_accuracy: 0.9967 - val_binary_crossentropy: 0.0193\n",
      "Epoch 65/10000\n",
      "10/10 [==============================] - 1s 97ms/step - loss: 0.0882 - accuracy: 1.0000 - binary_crossentropy: 0.0106 - val_loss: 0.0969 - val_accuracy: 0.9967 - val_binary_crossentropy: 0.0193\n",
      "Epoch 66/10000\n",
      "10/10 [==============================] - 1s 73ms/step - loss: 0.0860 - accuracy: 1.0000 - binary_crossentropy: 0.0101 - val_loss: 0.0953 - val_accuracy: 0.9967 - val_binary_crossentropy: 0.0195\n",
      "Epoch 67/10000\n",
      "10/10 [==============================] - 1s 114ms/step - loss: 0.0832 - accuracy: 1.0000 - binary_crossentropy: 0.0095 - val_loss: 0.0934 - val_accuracy: 0.9933 - val_binary_crossentropy: 0.0192\n",
      "Epoch 68/10000\n",
      "10/10 [==============================] - 1s 132ms/step - loss: 0.0824 - accuracy: 1.0000 - binary_crossentropy: 0.0098 - val_loss: 0.0922 - val_accuracy: 0.9933 - val_binary_crossentropy: 0.0194\n",
      "Epoch 69/10000\n",
      "10/10 [==============================] - 1s 117ms/step - loss: 0.0793 - accuracy: 1.0000 - binary_crossentropy: 0.0092 - val_loss: 0.0902 - val_accuracy: 0.9933 - val_binary_crossentropy: 0.0194\n",
      "Epoch 70/10000\n",
      "10/10 [==============================] - 1s 83ms/step - loss: 0.0780 - accuracy: 1.0000 - binary_crossentropy: 0.0093 - val_loss: 0.0893 - val_accuracy: 0.9933 - val_binary_crossentropy: 0.0200\n",
      "Epoch 71/10000\n",
      "10/10 [==============================] - 1s 98ms/step - loss: 0.0761 - accuracy: 1.0000 - binary_crossentropy: 0.0089 - val_loss: 0.0863 - val_accuracy: 0.9933 - val_binary_crossentropy: 0.0196\n",
      "Epoch 72/10000\n",
      "10/10 [==============================] - 1s 108ms/step - loss: 0.0733 - accuracy: 1.0000 - binary_crossentropy: 0.0082 - val_loss: 0.0852 - val_accuracy: 0.9933 - val_binary_crossentropy: 0.0199\n",
      "Epoch 73/10000\n",
      "10/10 [==============================] - 1s 119ms/step - loss: 0.0713 - accuracy: 1.0000 - binary_crossentropy: 0.0079 - val_loss: 0.0829 - val_accuracy: 0.9933 - val_binary_crossentropy: 0.0193\n",
      "Epoch 74/10000\n",
      "10/10 [==============================] - 1s 117ms/step - loss: 0.0712 - accuracy: 1.0000 - binary_crossentropy: 0.0088 - val_loss: 0.0843 - val_accuracy: 0.9933 - val_binary_crossentropy: 0.0207\n",
      "Epoch 75/10000\n",
      "10/10 [==============================] - 1s 84ms/step - loss: 0.0692 - accuracy: 1.0000 - binary_crossentropy: 0.0079 - val_loss: 0.0803 - val_accuracy: 0.9933 - val_binary_crossentropy: 0.0195\n",
      "Epoch 76/10000\n",
      "10/10 [==============================] - 1s 116ms/step - loss: 0.0669 - accuracy: 1.0000 - binary_crossentropy: 0.0072 - val_loss: 0.0788 - val_accuracy: 0.9933 - val_binary_crossentropy: 0.0195\n",
      "Epoch 77/10000\n",
      "10/10 [==============================] - 1s 95ms/step - loss: 0.0656 - accuracy: 1.0000 - binary_crossentropy: 0.0077 - val_loss: 0.0786 - val_accuracy: 0.9933 - val_binary_crossentropy: 0.0200\n",
      "Epoch 78/10000\n",
      "10/10 [==============================] - 1s 95ms/step - loss: 0.0640 - accuracy: 1.0000 - binary_crossentropy: 0.0075 - val_loss: 0.0773 - val_accuracy: 0.9933 - val_binary_crossentropy: 0.0201\n",
      "Epoch 79/10000\n",
      "10/10 [==============================] - 1s 77ms/step - loss: 0.0624 - accuracy: 1.0000 - binary_crossentropy: 0.0071 - val_loss: 0.0753 - val_accuracy: 0.9933 - val_binary_crossentropy: 0.0196\n",
      "Epoch 80/10000\n",
      "10/10 [==============================] - 1s 104ms/step - loss: 0.0608 - accuracy: 1.0000 - binary_crossentropy: 0.0068 - val_loss: 0.0737 - val_accuracy: 0.9933 - val_binary_crossentropy: 0.0199\n",
      "Epoch 81/10000\n",
      "10/10 [==============================] - 1s 106ms/step - loss: 0.0597 - accuracy: 1.0000 - binary_crossentropy: 0.0065 - val_loss: 0.0728 - val_accuracy: 0.9933 - val_binary_crossentropy: 0.0200\n",
      "Epoch 82/10000\n",
      "10/10 [==============================] - 1s 126ms/step - loss: 0.0583 - accuracy: 1.0000 - binary_crossentropy: 0.0066 - val_loss: 0.0709 - val_accuracy: 0.9967 - val_binary_crossentropy: 0.0198\n",
      "Epoch 83/10000\n",
      "10/10 [==============================] - 1s 87ms/step - loss: 0.0574 - accuracy: 1.0000 - binary_crossentropy: 0.0064 - val_loss: 0.0716 - val_accuracy: 0.9933 - val_binary_crossentropy: 0.0202\n",
      "Epoch 84/10000\n",
      "10/10 [==============================] - 1s 104ms/step - loss: 0.0564 - accuracy: 1.0000 - binary_crossentropy: 0.0069 - val_loss: 0.0710 - val_accuracy: 0.9933 - val_binary_crossentropy: 0.0201\n",
      "Epoch 85/10000\n",
      "10/10 [==============================] - 1s 74ms/step - loss: 0.0555 - accuracy: 1.0000 - binary_crossentropy: 0.0062 - val_loss: 0.0691 - val_accuracy: 0.9933 - val_binary_crossentropy: 0.0199\n",
      "Epoch 86/10000\n",
      "10/10 [==============================] - 1s 107ms/step - loss: 0.0544 - accuracy: 1.0000 - binary_crossentropy: 0.0070 - val_loss: 0.0680 - val_accuracy: 0.9900 - val_binary_crossentropy: 0.0216\n",
      "Epoch 87/10000\n",
      "10/10 [==============================] - 1s 120ms/step - loss: 0.0571 - accuracy: 1.0000 - binary_crossentropy: 0.0093 - val_loss: 0.0819 - val_accuracy: 0.9833 - val_binary_crossentropy: 0.0387\n",
      "1/1 [==============================] - 0s 136ms/step - loss: 0.1144 - accuracy: 0.9900 - binary_crossentropy: 0.0351\n"
     ]
    }
   ],
   "source": [
    "losses = [tf.keras.losses.BinaryCrossentropy(from_logits=True)]\n",
    "mil.model.compile(loss=losses,\n",
    "                  metrics=['accuracy', tf.keras.metrics.BinaryCrossentropy(from_logits=True)],\n",
    "                  optimizer=tf.keras.optimizers.Adam(learning_rate=0.001,\n",
    "                ))\n",
    "callbacks = [tf.keras.callbacks.EarlyStopping(monitor='val_binary_crossentropy', min_delta=0.00001, patience=20, mode='min', restore_best_weights=True)]\n",
    "history = mil.model.fit(ds_train, steps_per_epoch=10, validation_data=ds_valid, epochs=10000, callbacks=callbacks)\n",
    "evaluation = mil.model.evaluate(ds_test)"
   ],
   "metadata": {
    "collapsed": false,
    "pycharm": {
     "name": "#%%\n"
    }
   }
  },
  {
   "cell_type": "code",
   "execution_count": null,
   "outputs": [],
   "source": [
    "#Check the performance on test data, this model achieved 99% accuracy on this task."
   ],
   "metadata": {
    "collapsed": false,
    "pycharm": {
     "name": "#%%\n"
    }
   }
  },
  {
   "cell_type": "code",
   "execution_count": 33,
   "outputs": [
    {
     "name": "stdout",
     "output_type": "stream",
     "text": [
      "[0.11439504474401474, 0.9900000095367432, 0.035059455782175064]\n"
     ]
    }
   ],
   "source": [
    "print(evaluation)"
   ],
   "metadata": {
    "collapsed": false,
    "pycharm": {
     "name": "#%%\n"
    }
   }
  },
  {
   "cell_type": "code",
   "execution_count": null,
   "outputs": [],
   "source": [
    "#To get the attention we call a separate model which was built by default."
   ],
   "metadata": {
    "collapsed": false,
    "pycharm": {
     "name": "#%%\n"
    }
   }
  },
  {
   "cell_type": "code",
   "execution_count": 34,
   "outputs": [],
   "source": [
    "attention = mil.attention_model.predict(ds_test).to_list()"
   ],
   "metadata": {
    "collapsed": false,
    "pycharm": {
     "name": "#%%\n"
    }
   }
  },
  {
   "cell_type": "code",
   "execution_count": 35,
   "outputs": [
    {
     "data": {
      "text/plain": "200"
     },
     "execution_count": 35,
     "metadata": {},
     "output_type": "execute_result"
    }
   ],
   "source": [
    "len(attention)"
   ],
   "metadata": {
    "collapsed": false,
    "pycharm": {
     "name": "#%%\n"
    }
   }
  },
  {
   "cell_type": "markdown",
   "source": [
    "#The attention is a list per sample."
   ],
   "metadata": {
    "collapsed": false,
    "pycharm": {
     "name": "#%% md\n"
    }
   }
  },
  {
   "cell_type": "code",
   "execution_count": 37,
   "outputs": [
    {
     "data": {
      "text/plain": "(array([1.841e+03, 5.902e+03, 2.963e+03, 7.680e+02, 2.280e+02, 1.850e+02,\n        1.650e+02, 7.500e+01, 4.500e+01, 1.500e+01, 7.000e+00, 7.000e+00,\n        8.000e+00, 6.000e+00, 1.100e+01, 1.400e+01, 1.300e+01, 1.200e+01,\n        2.000e+01, 1.000e+01, 2.200e+01, 2.100e+01, 2.200e+01, 1.800e+01,\n        2.000e+01, 2.700e+01, 2.600e+01, 3.700e+01, 3.000e+01, 3.100e+01,\n        4.100e+01, 4.700e+01, 5.000e+01, 6.500e+01, 4.700e+01, 6.600e+01,\n        6.000e+01, 6.700e+01, 7.700e+01, 8.500e+01, 5.700e+01, 9.300e+01,\n        8.800e+01, 9.800e+01, 1.170e+02, 1.230e+02, 1.320e+02, 1.600e+02,\n        1.480e+02, 1.520e+02, 1.390e+02, 1.400e+02, 1.380e+02, 1.580e+02,\n        1.680e+02, 1.640e+02, 1.560e+02, 1.760e+02, 1.460e+02, 1.550e+02,\n        1.410e+02, 1.470e+02, 1.530e+02, 1.480e+02, 1.270e+02, 1.290e+02,\n        1.380e+02, 1.210e+02, 1.380e+02, 9.800e+01, 1.070e+02, 9.200e+01,\n        7.700e+01, 8.500e+01, 6.500e+01, 7.000e+01, 6.200e+01, 6.400e+01,\n        6.400e+01, 4.400e+01, 3.900e+01, 4.100e+01, 3.800e+01, 3.500e+01,\n        3.200e+01, 1.700e+01, 1.300e+01, 2.200e+01, 2.000e+01, 1.100e+01,\n        1.700e+01, 1.600e+01, 8.000e+00, 1.600e+01, 3.000e+00, 8.000e+00,\n        2.000e+00, 2.000e+00, 3.000e+00, 2.000e+00]),\n array([0.0152351 , 0.02073604, 0.02623697, 0.03173791, 0.03723885,\n        0.04273979, 0.04824073, 0.05374166, 0.0592426 , 0.06474354,\n        0.07024448, 0.07574542, 0.08124635, 0.08674729, 0.09224823,\n        0.09774917, 0.10325011, 0.10875104, 0.11425198, 0.11975292,\n        0.12525386, 0.1307548 , 0.13625573, 0.14175667, 0.14725761,\n        0.15275855, 0.15825949, 0.16376042, 0.16926136, 0.1747623 ,\n        0.18026324, 0.18576418, 0.19126511, 0.19676605, 0.20226699,\n        0.20776793, 0.21326887, 0.2187698 , 0.22427074, 0.22977168,\n        0.23527262, 0.24077356, 0.24627449, 0.25177543, 0.25727637,\n        0.26277731, 0.26827825, 0.27377918, 0.27928012, 0.28478106,\n        0.290282  , 0.29578294, 0.30128387, 0.30678481, 0.31228575,\n        0.31778669, 0.32328763, 0.32878856, 0.3342895 , 0.33979044,\n        0.34529138, 0.35079232, 0.35629325, 0.36179419, 0.36729513,\n        0.37279607, 0.37829701, 0.38379794, 0.38929888, 0.39479982,\n        0.40030076, 0.40580169, 0.41130263, 0.41680357, 0.42230451,\n        0.42780545, 0.43330638, 0.43880732, 0.44430826, 0.4498092 ,\n        0.45531014, 0.46081107, 0.46631201, 0.47181295, 0.47731389,\n        0.48281483, 0.48831576, 0.4938167 , 0.49931764, 0.50481858,\n        0.51031952, 0.51582045, 0.52132139, 0.52682233, 0.53232327,\n        0.53782421, 0.54332514, 0.54882608, 0.55432702, 0.55982796,\n        0.5653289 ]),\n <BarContainer object of 100 artists>)"
     },
     "execution_count": 37,
     "metadata": {},
     "output_type": "execute_result"
    },
    {
     "data": {
      "text/plain": "<Figure size 640x480 with 1 Axes>",
      "image/png": "[encoded data removed]"
     },
     "metadata": {},
     "output_type": "display_data"
    }
   ],
   "source": [
    "plt.hist(np.concatenate(attention), bins=100)\n",
    "plt.xlabel('Attention')"
   ],
   "metadata": {
    "collapsed": false,
    "pycharm": {
     "name": "#%%\n"
    }
   }
  },
  {
   "cell_type": "code",
   "execution_count": null,
   "outputs": [],
   "source": [
    "#As we can see most instances received low attention while some received higher attention."
   ],
   "metadata": {
    "collapsed": false,
    "pycharm": {
     "name": "#%%\n"
    }
   }
  }
 ],
 "metadata": {
  "kernelspec": {
   "display_name": "Python 3",
   "language": "python",
   "name": "python3"
  },
  "language_info": {
   "codemirror_mode": {
    "name": "ipython",
    "version": 2
   },
   "file_extension": ".py",
   "mimetype": "text/x-python",
   "name": "python",
   "nbconvert_exporter": "python",
   "pygments_lexer": "ipython2",
   "version": "2.7.6"
  }
 },
 "nbformat": 4,
 "nbformat_minor": 0
}